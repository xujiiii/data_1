{
 "cells": [
  {
   "cell_type": "code",
   "execution_count": 11,
   "id": "7f7b8b66",
   "metadata": {},
   "outputs": [],
   "source": [
    "logg=[]"
   ]
  },
  {
   "cell_type": "code",
   "execution_count": 15,
   "id": "f1609a87",
   "metadata": {},
   "outputs": [
    {
     "name": "stdout",
     "output_type": "stream",
     "text": [
      "0 No\n",
      "1 haha\n",
      "[1758902209.2347698, 1758902209.7713554, 1758902210.3410552, 1758902210.8753428]\n"
     ]
    }
   ],
   "source": [
    "import numpy as np\n",
    "import time\n",
    "\n",
    "\n",
    "def log(fuc):\n",
    "    def wrapper(*args, **kwargs):\n",
    "        fuc(*args, **kwargs)\n",
    "        logg.append(time.time())\n",
    "        return fuc(*args, **kwargs)\n",
    "        \n",
    "    return wrapper \n",
    "\n",
    "@log\n",
    "def haha():\n",
    "    a=np.random.randint(0,2)\n",
    "    if a==1:\n",
    "        print(a,'haha')\n",
    "    else:\n",
    "        print(a,'No')\n",
    "\n",
    "\n",
    "if __name__=='__main__':\n",
    "    haha()\n",
    "    print(logg)"
   ]
  },
  {
   "cell_type": "code",
   "execution_count": 7,
   "id": "61951bba",
   "metadata": {},
   "outputs": [
    {
     "name": "stdout",
     "output_type": "stream",
     "text": [
      "Help on function wrapper in module __main__:\n",
      "\n",
      "wrapper(*args, **kwargs)\n",
      "\n"
     ]
    }
   ],
   "source": [
    "help(haha)"
   ]
  },
  {
   "cell_type": "code",
   "execution_count": null,
   "id": "a3788688",
   "metadata": {},
   "outputs": [],
   "source": []
  }
 ],
 "metadata": {
  "kernelspec": {
   "display_name": "Python 3",
   "language": "python",
   "name": "python3"
  },
  "language_info": {
   "codemirror_mode": {
    "name": "ipython",
    "version": 3
   },
   "file_extension": ".py",
   "mimetype": "text/x-python",
   "name": "python",
   "nbconvert_exporter": "python",
   "pygments_lexer": "ipython3",
   "version": "3.12.5"
  }
 },
 "nbformat": 4,
 "nbformat_minor": 5
}
