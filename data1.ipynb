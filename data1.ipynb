{
 "cells": [
  {
   "cell_type": "code",
   "execution_count": null,
   "id": "b44e493e",
   "metadata": {},
   "outputs": [
    {
     "name": "stdout",
     "output_type": "stream",
     "text": [
      "[[ 0.  0.  1.  3.  1.  2.  4.  7.  8.  3.  3.  3. 10.  5.  7.  4.  7.  7.\n",
      "  12. 18.  6. 13. 11. 11.  7.  7.  4.  6.  8.  8.  4.  4.  5.  7.  3.  4.\n",
      "   2.  3.  0.  0.]\n",
      " [ 0.  1.  2.  1.  2.  1.  3.  2.  2.  6. 10. 11.  5.  9.  4.  4.  7. 16.\n",
      "   8.  6. 18.  4. 12.  5. 12.  7. 11.  5. 11.  3.  3.  5.  4.  4.  5.  5.\n",
      "   1.  1.  0.  1.]\n",
      " [ 0.  1.  1.  3.  3.  2.  6.  2.  5.  9.  5.  7.  4.  5.  4. 15.  5. 11.\n",
      "   9. 10. 19. 14. 12. 17.  7. 12. 11.  7.  4.  2. 10.  5.  4.  2.  2.  3.\n",
      "   2.  2.  1.  1.]]\n",
      "max is 19.0\n",
      "min is 0.0\n",
      "Row mean is [5.45  5.425 6.1  ]\n",
      "column mean is [ 0.          0.66666667  1.33333333  2.33333333  2.          1.66666667\n",
      "  4.33333333  3.66666667  5.          6.          6.          7.\n",
      "  6.33333333  6.33333333  5.          7.66666667  6.33333333 11.33333333\n",
      "  9.66666667 11.33333333 14.33333333 10.33333333 11.66666667 11.\n",
      "  8.66666667  8.66666667  8.66666667  6.          7.66666667  4.33333333\n",
      "  5.66666667  4.66666667  4.33333333  4.33333333  3.33333333  4.\n",
      "  1.66666667  2.          0.33333333  0.66666667]\n",
      "3.898397106504159\n",
      "3.89839710650416\n"
     ]
    }
   ],
   "source": [
    "import numpy as np\n",
    "\n",
    "a=np.loadtxt(fname=\"data/data/inflammation-01.csv\",delimiter=',')\n",
    "\n",
    "b=a[0:3]\n",
    "print(b)\n",
    "print(f\"max is {np.amax(b)}\")\n",
    "print(f\"min is {np.amin(b)}\")\n",
    "\n",
    "print(f'Row mean is {np.mean(b,axis=1)}')\n",
    "print(f'column mean is {np.mean(b,axis=0)}')\n",
    "print(np.std(b[0]))\n",
    "st=0\n",
    "for i in b[0]:\n",
    "    st+=((i-np.mean(b[0]))**2)/len(b[0])\n",
    "\n",
    "print(st**(1/2))"
   ]
  }
 ],
 "metadata": {
  "kernelspec": {
   "display_name": "Python 3",
   "language": "python",
   "name": "python3"
  },
  "language_info": {
   "codemirror_mode": {
    "name": "ipython",
    "version": 3
   },
   "file_extension": ".py",
   "mimetype": "text/x-python",
   "name": "python",
   "nbconvert_exporter": "python",
   "pygments_lexer": "ipython3",
   "version": "3.12.5"
  }
 },
 "nbformat": 4,
 "nbformat_minor": 5
}
