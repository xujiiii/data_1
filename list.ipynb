{
 "cells": [
  {
   "cell_type": "code",
   "execution_count": null,
   "id": "a320ee6d",
   "metadata": {},
   "outputs": [
    {
     "data": {
      "text/plain": [
       "[9, 8, 4, 3, 1]"
      ]
     },
     "execution_count": 2,
     "metadata": {},
     "output_type": "execute_result"
    }
   ],
   "source": [
    "a=[1,3,4,8,9]\n",
    "\n",
    "a.reverse()\n",
    "\n",
    "print(a)"
   ]
  },
  {
   "cell_type": "markdown",
   "id": "f16c3a45",
   "metadata": {},
   "source": [
    "#List copy and no copy"
   ]
  },
  {
   "cell_type": "code",
   "execution_count": 1,
   "id": "253eb484",
   "metadata": {},
   "outputs": [
    {
     "name": "stdout",
     "output_type": "stream",
     "text": [
      "['i', 'a', 'c']\n",
      "['i', 'a', 'c']\n"
     ]
    }
   ],
   "source": [
    "a=['k','a','c']\n",
    "b=a\n",
    "b[0]='i'\n",
    "print(b)\n",
    "print(a)"
   ]
  },
  {
   "cell_type": "code",
   "execution_count": 2,
   "id": "8b5dad4a",
   "metadata": {},
   "outputs": [
    {
     "name": "stdout",
     "output_type": "stream",
     "text": [
      "['i', 'a', 'c']\n",
      "['k', 'a', 'c']\n"
     ]
    }
   ],
   "source": [
    "a=['k','a','c']\n",
    "b=list(a)\n",
    "b[0]='i'\n",
    "print(b)\n",
    "print(a)"
   ]
  },
  {
   "cell_type": "code",
   "execution_count": null,
   "id": "a062393c",
   "metadata": {},
   "outputs": [
    {
     "data": {
      "text/plain": [
       "[1, 3, 5]"
      ]
     },
     "execution_count": 5,
     "metadata": {},
     "output_type": "execute_result"
    }
   ],
   "source": [
    "c=[1,2,3,4,5,6,7,8,9,10]\n",
    "\n",
    "c[0:6:2]\n",
    "\n",
    "#c[0:6:1]==c[0:6]\n"
   ]
  }
 ],
 "metadata": {
  "kernelspec": {
   "display_name": "Python 3",
   "language": "python",
   "name": "python3"
  },
  "language_info": {
   "codemirror_mode": {
    "name": "ipython",
    "version": 3
   },
   "file_extension": ".py",
   "mimetype": "text/x-python",
   "name": "python",
   "nbconvert_exporter": "python",
   "pygments_lexer": "ipython3",
   "version": "3.12.5"
  }
 },
 "nbformat": 4,
 "nbformat_minor": 5
}
